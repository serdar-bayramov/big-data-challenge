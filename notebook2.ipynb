{
  "nbformat": 4,
  "nbformat_minor": 0,
  "metadata": {
    "colab": {
      "name": "notebook2.ipynb",
      "provenance": [],
      "collapsed_sections": [],
      "authorship_tag": "ABX9TyMAb/uKLgjmJ42MAs8pnyTq",
      "include_colab_link": true
    },
    "kernelspec": {
      "name": "python3",
      "display_name": "Python 3"
    },
    "language_info": {
      "name": "python"
    }
  },
  "cells": [
    {
      "cell_type": "markdown",
      "metadata": {
        "id": "view-in-github",
        "colab_type": "text"
      },
      "source": [
        "<a href=\"https://colab.research.google.com/github/serdar-bayramov/big-data-challenge/blob/main/notebook2.ipynb\" target=\"_parent\"><img src=\"https://colab.research.google.com/assets/colab-badge.svg\" alt=\"Open In Colab\"/></a>"
      ]
    },
    {
      "cell_type": "code",
      "metadata": {
        "colab": {
          "base_uri": "https://localhost:8080/"
        },
        "id": "iMQozhzfKrht",
        "outputId": "60ec1a3c-2e88-4d46-81fc-707ecc93a73a"
      },
      "source": [
        "import os\n",
        "# Find the latest version of spark 3.0  from http://www.apache.org/dist/spark/ and enter as the spark version\n",
        "spark_version = \"spark-3.2.0\"\n",
        "os.environ['SPARK_VERSION']=spark_version\n",
        "\n",
        "# Install Spark and Java\n",
        "!apt-get update\n",
        "!apt-get install openjdk-8-jdk-headless -qq > /dev/null\n",
        "!wget -q http://www.apache.org/dist/spark/$SPARK_VERSION/$SPARK_VERSION-bin-hadoop2.7.tgz\n",
        "!tar xf $SPARK_VERSION-bin-hadoop2.7.tgz\n",
        "!pip install -q findspark\n",
        "\n",
        "# Set Environment Variables\n",
        "os.environ[\"JAVA_HOME\"] = \"/usr/lib/jvm/java-8-openjdk-amd64\"\n",
        "os.environ[\"SPARK_HOME\"] = f\"/content/{spark_version}-bin-hadoop2.7\""
      ],
      "execution_count": 1,
      "outputs": [
        {
          "output_type": "stream",
          "name": "stdout",
          "text": [
            "Get:1 https://cloud.r-project.org/bin/linux/ubuntu bionic-cran40/ InRelease [3,626 B]\n",
            "Get:2 http://security.ubuntu.com/ubuntu bionic-security InRelease [88.7 kB]\n",
            "Hit:3 http://archive.ubuntu.com/ubuntu bionic InRelease\n",
            "Get:4 http://ppa.launchpad.net/c2d4u.team/c2d4u4.0+/ubuntu bionic InRelease [15.9 kB]\n",
            "Ign:5 https://developer.download.nvidia.com/compute/cuda/repos/ubuntu1804/x86_64  InRelease\n",
            "Get:6 http://archive.ubuntu.com/ubuntu bionic-updates InRelease [88.7 kB]\n",
            "Hit:7 http://ppa.launchpad.net/cran/libgit2/ubuntu bionic InRelease\n",
            "Ign:8 https://developer.download.nvidia.com/compute/machine-learning/repos/ubuntu1804/x86_64  InRelease\n",
            "Get:9 https://developer.download.nvidia.com/compute/cuda/repos/ubuntu1804/x86_64  Release [696 B]\n",
            "Get:10 http://archive.ubuntu.com/ubuntu bionic-backports InRelease [74.6 kB]\n",
            "Hit:11 https://developer.download.nvidia.com/compute/machine-learning/repos/ubuntu1804/x86_64  Release\n",
            "Get:12 https://developer.download.nvidia.com/compute/cuda/repos/ubuntu1804/x86_64  Release.gpg [836 B]\n",
            "Hit:13 http://ppa.launchpad.net/deadsnakes/ppa/ubuntu bionic InRelease\n",
            "Hit:14 http://ppa.launchpad.net/graphics-drivers/ppa/ubuntu bionic InRelease\n",
            "Get:15 http://ppa.launchpad.net/c2d4u.team/c2d4u4.0+/ubuntu bionic/main Sources [1,813 kB]\n",
            "Get:16 http://security.ubuntu.com/ubuntu bionic-security/main amd64 Packages [2,430 kB]\n",
            "Get:17 http://ppa.launchpad.net/c2d4u.team/c2d4u4.0+/ubuntu bionic/main amd64 Packages [930 kB]\n",
            "Get:18 http://security.ubuntu.com/ubuntu bionic-security/universe amd64 Packages [1,442 kB]\n",
            "Get:19 http://archive.ubuntu.com/ubuntu bionic-updates/universe amd64 Packages [2,224 kB]\n",
            "Get:20 http://archive.ubuntu.com/ubuntu bionic-updates/main amd64 Packages [2,867 kB]\n",
            "Get:22 https://developer.download.nvidia.com/compute/cuda/repos/ubuntu1804/x86_64  Packages [828 kB]\n",
            "Fetched 12.8 MB in 4s (2,908 kB/s)\n",
            "Reading package lists... Done\n"
          ]
        }
      ]
    },
    {
      "cell_type": "code",
      "metadata": {
        "colab": {
          "base_uri": "https://localhost:8080/"
        },
        "id": "4SqbqlDfK26L",
        "outputId": "784e50ac-ea0d-4770-8b49-6899d248fb04"
      },
      "source": [
        "import pandas as pd\n",
        "!pip install pyspark"
      ],
      "execution_count": 2,
      "outputs": [
        {
          "output_type": "stream",
          "name": "stdout",
          "text": [
            "Collecting pyspark\n",
            "  Downloading pyspark-3.2.0.tar.gz (281.3 MB)\n",
            "\u001b[K     |████████████████████████████████| 281.3 MB 38 kB/s \n",
            "\u001b[?25hCollecting py4j==0.10.9.2\n",
            "  Downloading py4j-0.10.9.2-py2.py3-none-any.whl (198 kB)\n",
            "\u001b[K     |████████████████████████████████| 198 kB 55.4 MB/s \n",
            "\u001b[?25hBuilding wheels for collected packages: pyspark\n",
            "  Building wheel for pyspark (setup.py) ... \u001b[?25l\u001b[?25hdone\n",
            "  Created wheel for pyspark: filename=pyspark-3.2.0-py2.py3-none-any.whl size=281805912 sha256=088a0d22b4a6da204457c9d625a7ec95cdee02e2df5f4ff8cb7573ad6e1b3054\n",
            "  Stored in directory: /root/.cache/pip/wheels/0b/de/d2/9be5d59d7331c6c2a7c1b6d1a4f463ce107332b1ecd4e80718\n",
            "Successfully built pyspark\n",
            "Installing collected packages: py4j, pyspark\n",
            "Successfully installed py4j-0.10.9.2 pyspark-3.2.0\n"
          ]
        }
      ]
    },
    {
      "cell_type": "code",
      "metadata": {
        "id": "o_RQHHJiLCUC"
      },
      "source": [
        "from pyspark.sql import SparkSession\n",
        "spark = SparkSession.builder.appName(\"big-data-challenge\").config(\"spark.driver.extraClassPath\",\"/content/postgresql-42.2.9.jar\").getOrCreate()"
      ],
      "execution_count": 3,
      "outputs": []
    },
    {
      "cell_type": "markdown",
      "metadata": {
        "id": "sct2NNEzLW4K"
      },
      "source": [
        "Read mobile electronics reviews from amazon reviews"
      ]
    },
    {
      "cell_type": "code",
      "metadata": {
        "colab": {
          "base_uri": "https://localhost:8080/"
        },
        "id": "b_8vcrrPLTXS",
        "outputId": "d13761b6-49fe-4aa1-b3da-37e43ae717c5"
      },
      "source": [
        "from pyspark import SparkFiles\n",
        "url = \"https://s3.amazonaws.com/amazon-reviews-pds/tsv/amazon_reviews_us_Mobile_Electronics_v1_00.tsv.gz\"\n",
        "spark.sparkContext.addFile(url)\n",
        "mobile_df = spark.read.csv(SparkFiles.get(\"amazon_reviews_us_Mobile_Electronics_v1_00.tsv.gz\"), sep=\"\\t\", header=True, inferSchema=True)\n",
        "mobile_df.show()\n"
      ],
      "execution_count": 5,
      "outputs": [
        {
          "output_type": "stream",
          "name": "stdout",
          "text": [
            "+-----------+-----------+--------------+----------+--------------+--------------------+------------------+-----------+-------------+-----------+----+-----------------+--------------------+--------------------+-----------+\n",
            "|marketplace|customer_id|     review_id|product_id|product_parent|       product_title|  product_category|star_rating|helpful_votes|total_votes|vine|verified_purchase|     review_headline|         review_body|review_date|\n",
            "+-----------+-----------+--------------+----------+--------------+--------------------+------------------+-----------+-------------+-----------+----+-----------------+--------------------+--------------------+-----------+\n",
            "|         US|   20422322| R8MEA6IGAHO0B|B00MC4CED8|     217304173|BlackVue DR600GW-PMP|Mobile_Electronics|          5|            0|          0|   N|                Y|         Very Happy!|As advertised. Ev...| 2015-08-31|\n",
            "|         US|   40835037|R31LOQ8JGLPRLK|B00OQMFG1Q|     137313254|GENSSI GSM / GPS ...|Mobile_Electronics|          5|            0|          1|   N|                Y|           five star|          it's great| 2015-08-31|\n",
            "|         US|   51469641|R2Y0MM9YE6OP3P|B00QERR5CY|      82850235|iXCC Multi pack L...|Mobile_Electronics|          5|            0|          0|   N|                Y|        great cables|These work great ...| 2015-08-31|\n",
            "|         US|    4332923| RRB9C05HDOD4O|B00QUFTPV4|     221169481|abcGoodefg® FBI C...|Mobile_Electronics|          4|            0|          0|   N|                Y|Work very well bu...|Work very well bu...| 2015-08-31|\n",
            "|         US|   44855305|R26I2RI1GFV8QG|B0067XVNTG|     563475445|Generic Car Dashb...|Mobile_Electronics|          2|            0|          0|   N|                Y|Cameras has batte...|Be careful with t...| 2015-08-31|\n",
            "|         US|    7846966| RY8DDL22YG4R5|B00KA6CCVY|     713636156|Aweek® Air Acoust...|Mobile_Electronics|          3|            0|          1|   N|                Y|It appears to be ...|It appears to be ...| 2015-08-31|\n",
            "|         US|   21299354|R2AT2426ZHFUHH|B00MJCDPM2|     754171872|Sentey LS-4460 B-...|Mobile_Electronics|          3|            0|          1|   N|                Y|Didn't love the f...|First one arrived...| 2015-08-31|\n",
            "|         US|   28902968|R3RRXU2R23NMQ9|B00ET5AWBY|     508373185|iPad Car Headrest...|Mobile_Electronics|          5|            0|          0|   N|                Y|          Five Stars|Worked great for ...| 2015-08-31|\n",
            "|         US|    2074438|R250PR8VJUZ62F|B00Z9K379C|     759387370|ANWING Waterproof...|Mobile_Electronics|          4|            0|          2|   N|                Y|          Four Stars|this is a very go...| 2015-08-31|\n",
            "|         US|   48701722| RBEMQ29WJBHYG|B00YO3UYXW|     913911909|Jensen MCR-100 Ca...|Mobile_Electronics|          5|          164|        168|   N|                Y|  I LOVE my recorder|I LOVE my recorde...| 2015-08-31|\n",
            "|         US|    2990247|R19VVIUT4BZCMT|B011W26BU2|     938399424|Bluetooth Speaker...|Mobile_Electronics|          5|            2|          2|   N|                Y|          Five Stars|Great sound great...| 2015-08-31|\n",
            "|         US|   52946117|R1DT8JJUQHUKUL|B00H8PI78C|     661515294|15Pcs DC 5V 85dB ...|Mobile_Electronics|          3|            0|          1|   N|                Y|More of a beeper ...|If what you want ...| 2015-08-31|\n",
            "|         US|   49359994| RLIL6S9OGM3YA|B00M49C6MK|      91176851|      Sentey Ls 4162|Mobile_Electronics|          5|            0|          0|   N|                Y|          Five Stars|             Love it| 2015-08-31|\n",
            "|         US|    4158732|R34EZZ68VYPHO0|B011Q291PK|     891142775|IcePACK 8 Can Ins...|Mobile_Electronics|          1|            1|          1|   N|                Y|            One Star|               Sucks| 2015-08-31|\n",
            "|         US|   18944032|R3TZNSOXS13SIG|B00W6OLUGQ|     577462547|DTK® AMI MDI MMI ...|Mobile_Electronics|          2|            1|          3|   N|                Y|           Two Stars|u need to plug in...| 2015-08-31|\n",
            "|         US|     279606|R12UBZT87UX3AP|B008MY1F8W|     680240984|INPA K+CAN K+DCAN...|Mobile_Electronics|          5|            2|          2|   N|                Y|          Five Stars|Worked with MHD F...| 2015-08-31|\n",
            "|         US|   10947966| R5KCRE927NYMU|B00KW3XNUE|     219920841|Magicfly Wireless...|Mobile_Electronics|          2|            0|          0|   N|                N|Battery Cover Poo...|Just arrived,  re...| 2015-08-31|\n",
            "|         US|   18387442| RT12RQFU0V2AX|B009NGR0AK|     254898339|Humminbird XNT 9 ...|Mobile_Electronics|          5|            1|          1|   N|                Y|        Works great.|I bought this uni...| 2015-08-31|\n",
            "|         US|   48950322|R2K0YQPV5W2SJ1|B011W26BU2|     938399424|Bluetooth Speaker...|Mobile_Electronics|          4|            2|          2|   N|                Y|A Lot of Sound In...|I am giving the s...| 2015-08-31|\n",
            "|         US|   48148197|R104MY31OKNGXH|B00PAP68WO|     366592530|Foxnovo 3.7V 380m...|Mobile_Electronics|          5|            0|          0|   N|                Y|          Five Stars|Met my applicatio...| 2015-08-31|\n",
            "+-----------+-----------+--------------+----------+--------------+--------------------+------------------+-----------+-------------+-----------+----+-----------------+--------------------+--------------------+-----------+\n",
            "only showing top 20 rows\n",
            "\n"
          ]
        }
      ]
    },
    {
      "cell_type": "code",
      "metadata": {
        "colab": {
          "base_uri": "https://localhost:8080/"
        },
        "id": "aop5beQQLxm7",
        "outputId": "1fc61067-4470-442b-c4c6-2425adc87635"
      },
      "source": [
        "mobile_df.count()"
      ],
      "execution_count": 6,
      "outputs": [
        {
          "output_type": "execute_result",
          "data": {
            "text/plain": [
              "104975"
            ]
          },
          "metadata": {},
          "execution_count": 6
        }
      ]
    },
    {
      "cell_type": "markdown",
      "metadata": {
        "id": "YWR55-CxL5er"
      },
      "source": [
        "Create Review_ID_df table "
      ]
    },
    {
      "cell_type": "code",
      "metadata": {
        "colab": {
          "base_uri": "https://localhost:8080/"
        },
        "id": "yTncUtBbL1jC",
        "outputId": "d1c88126-5798-4e83-e3d3-6be00d8d2c96"
      },
      "source": [
        "from pyspark.sql.functions import to_date\n",
        "review_ID_df = mobile_df.select([\"review_id\", \"customer_id\", \"product_id\", \"product_parent\", to_date(\"review_date\", 'yyyy-MM-dd').alias(\"review_date\")])\n",
        "review_ID_df.show()"
      ],
      "execution_count": 7,
      "outputs": [
        {
          "output_type": "stream",
          "name": "stdout",
          "text": [
            "+--------------+-----------+----------+--------------+-----------+\n",
            "|     review_id|customer_id|product_id|product_parent|review_date|\n",
            "+--------------+-----------+----------+--------------+-----------+\n",
            "| R8MEA6IGAHO0B|   20422322|B00MC4CED8|     217304173| 2015-08-31|\n",
            "|R31LOQ8JGLPRLK|   40835037|B00OQMFG1Q|     137313254| 2015-08-31|\n",
            "|R2Y0MM9YE6OP3P|   51469641|B00QERR5CY|      82850235| 2015-08-31|\n",
            "| RRB9C05HDOD4O|    4332923|B00QUFTPV4|     221169481| 2015-08-31|\n",
            "|R26I2RI1GFV8QG|   44855305|B0067XVNTG|     563475445| 2015-08-31|\n",
            "| RY8DDL22YG4R5|    7846966|B00KA6CCVY|     713636156| 2015-08-31|\n",
            "|R2AT2426ZHFUHH|   21299354|B00MJCDPM2|     754171872| 2015-08-31|\n",
            "|R3RRXU2R23NMQ9|   28902968|B00ET5AWBY|     508373185| 2015-08-31|\n",
            "|R250PR8VJUZ62F|    2074438|B00Z9K379C|     759387370| 2015-08-31|\n",
            "| RBEMQ29WJBHYG|   48701722|B00YO3UYXW|     913911909| 2015-08-31|\n",
            "|R19VVIUT4BZCMT|    2990247|B011W26BU2|     938399424| 2015-08-31|\n",
            "|R1DT8JJUQHUKUL|   52946117|B00H8PI78C|     661515294| 2015-08-31|\n",
            "| RLIL6S9OGM3YA|   49359994|B00M49C6MK|      91176851| 2015-08-31|\n",
            "|R34EZZ68VYPHO0|    4158732|B011Q291PK|     891142775| 2015-08-31|\n",
            "|R3TZNSOXS13SIG|   18944032|B00W6OLUGQ|     577462547| 2015-08-31|\n",
            "|R12UBZT87UX3AP|     279606|B008MY1F8W|     680240984| 2015-08-31|\n",
            "| R5KCRE927NYMU|   10947966|B00KW3XNUE|     219920841| 2015-08-31|\n",
            "| RT12RQFU0V2AX|   18387442|B009NGR0AK|     254898339| 2015-08-31|\n",
            "|R2K0YQPV5W2SJ1|   48950322|B011W26BU2|     938399424| 2015-08-31|\n",
            "|R104MY31OKNGXH|   48148197|B00PAP68WO|     366592530| 2015-08-31|\n",
            "+--------------+-----------+----------+--------------+-----------+\n",
            "only showing top 20 rows\n",
            "\n"
          ]
        }
      ]
    },
    {
      "cell_type": "markdown",
      "metadata": {
        "id": "n-k1zJWDMEmS"
      },
      "source": [
        "Create customer_df table"
      ]
    },
    {
      "cell_type": "code",
      "metadata": {
        "colab": {
          "base_uri": "https://localhost:8080/"
        },
        "id": "XS3QAZsNMBjK",
        "outputId": "8bf622cf-4ec1-4930-cc8a-006eb5d65c6f"
      },
      "source": [
        "customer_df = mobile_df.groupby(\"customer_id\").agg({\"customer_id\": \"count\"}).withColumnRenamed(\"count(customer_id)\", \"customer_count\")\n",
        "customer_df.show()"
      ],
      "execution_count": 8,
      "outputs": [
        {
          "output_type": "stream",
          "name": "stdout",
          "text": [
            "+-----------+--------------+\n",
            "|customer_id|customer_count|\n",
            "+-----------+--------------+\n",
            "|     176073|             1|\n",
            "|   20992492|             1|\n",
            "|    1397686|             1|\n",
            "|   50371142|             1|\n",
            "|     235096|             1|\n",
            "|   12320806|             1|\n",
            "|   19707203|             1|\n",
            "|   15207172|             1|\n",
            "|     538703|             1|\n",
            "|   11223135|             1|\n",
            "|   31447151|             1|\n",
            "|   35961247|             1|\n",
            "|   17835519|             1|\n",
            "|   15404885|             1|\n",
            "|   10182610|             1|\n",
            "|   52399092|             1|\n",
            "|   17133428|             1|\n",
            "|   27870423|             1|\n",
            "|   11574168|             1|\n",
            "|   30685607|             1|\n",
            "+-----------+--------------+\n",
            "only showing top 20 rows\n",
            "\n"
          ]
        }
      ]
    },
    {
      "cell_type": "markdown",
      "metadata": {
        "id": "7_GaItRmMK5a"
      },
      "source": [
        "Create products_df table\n"
      ]
    },
    {
      "cell_type": "code",
      "metadata": {
        "colab": {
          "base_uri": "https://localhost:8080/"
        },
        "id": "C4BzDTMnMNJa",
        "outputId": "97ae8158-8fed-43dc-854f-6a6f84d03173"
      },
      "source": [
        "products_df = mobile_df.select([\"product_id\", \"product_title\"]).drop_duplicates()\n",
        "products_df.show()"
      ],
      "execution_count": 9,
      "outputs": [
        {
          "output_type": "stream",
          "name": "stdout",
          "text": [
            "+----------+--------------------+\n",
            "|product_id|       product_title|\n",
            "+----------+--------------------+\n",
            "|B01075GRAO|ANYSECU QYT KT890...|\n",
            "|B00QVXNV60|BRG AH2000G-ANR A...|\n",
            "|B004ECO5VA|Holux Mini Smart ...|\n",
            "|B00LGNKLXG|Aweek® Car Antenn...|\n",
            "|B00M1Y87I0|      sentey ls 4063|\n",
            "|B002ABX29I|Micca Slim Portab...|\n",
            "|B00XXA2T2G|Centurion GT1 Car...|\n",
            "|B00Q5A5PD6|HYUNDAI HCR-580 V...|\n",
            "|B00VFEK8IY|Z ZTDM Mini Stere...|\n",
            "|B00L85M8VU|Settonbrothers Ul...|\n",
            "|B00SUXD5GU|[NEW RELEASE] JEB...|\n",
            "|B00KJ7MVYW|Fincibo (TM) Appl...|\n",
            "|B00A6YQQS0|Minisuit Aero Fol...|\n",
            "|B009S99IYI|PIO TSG1644R 6.5 ...|\n",
            "|B006PAZCXY|eForCity® Anti-Gl...|\n",
            "|B00OXD61OE|SHE'O® 2x Cool No...|\n",
            "|B000IBMI1K|RCA 200-Watt Mono...|\n",
            "|B00UN6955M|Aisster(TM) Lot 1...|\n",
            "|B00V684NCQ|LSD 8GB Flash Dri...|\n",
            "|B00A609WOO|eForCity Hybrid S...|\n",
            "+----------+--------------------+\n",
            "only showing top 20 rows\n",
            "\n"
          ]
        }
      ]
    },
    {
      "cell_type": "markdown",
      "metadata": {
        "id": "ZvXq0O7LMS-i"
      },
      "source": [
        "Create reviews_df table"
      ]
    },
    {
      "cell_type": "code",
      "metadata": {
        "colab": {
          "base_uri": "https://localhost:8080/"
        },
        "id": "p_dDVzJYMV-C",
        "outputId": "492e8140-d3be-4dd3-daf5-9d0ee819f4b8"
      },
      "source": [
        "reviews_df = mobile_df.select([\"review_id\", \"review_headline\", \"review_body\"])\n",
        "reviews_df.show()"
      ],
      "execution_count": 10,
      "outputs": [
        {
          "output_type": "stream",
          "name": "stdout",
          "text": [
            "+--------------+--------------------+--------------------+\n",
            "|     review_id|     review_headline|         review_body|\n",
            "+--------------+--------------------+--------------------+\n",
            "| R8MEA6IGAHO0B|         Very Happy!|As advertised. Ev...|\n",
            "|R31LOQ8JGLPRLK|           five star|          it's great|\n",
            "|R2Y0MM9YE6OP3P|        great cables|These work great ...|\n",
            "| RRB9C05HDOD4O|Work very well bu...|Work very well bu...|\n",
            "|R26I2RI1GFV8QG|Cameras has batte...|Be careful with t...|\n",
            "| RY8DDL22YG4R5|It appears to be ...|It appears to be ...|\n",
            "|R2AT2426ZHFUHH|Didn't love the f...|First one arrived...|\n",
            "|R3RRXU2R23NMQ9|          Five Stars|Worked great for ...|\n",
            "|R250PR8VJUZ62F|          Four Stars|this is a very go...|\n",
            "| RBEMQ29WJBHYG|  I LOVE my recorder|I LOVE my recorde...|\n",
            "|R19VVIUT4BZCMT|          Five Stars|Great sound great...|\n",
            "|R1DT8JJUQHUKUL|More of a beeper ...|If what you want ...|\n",
            "| RLIL6S9OGM3YA|          Five Stars|             Love it|\n",
            "|R34EZZ68VYPHO0|            One Star|               Sucks|\n",
            "|R3TZNSOXS13SIG|           Two Stars|u need to plug in...|\n",
            "|R12UBZT87UX3AP|          Five Stars|Worked with MHD F...|\n",
            "| R5KCRE927NYMU|Battery Cover Poo...|Just arrived,  re...|\n",
            "| RT12RQFU0V2AX|        Works great.|I bought this uni...|\n",
            "|R2K0YQPV5W2SJ1|A Lot of Sound In...|I am giving the s...|\n",
            "|R104MY31OKNGXH|          Five Stars|Met my applicatio...|\n",
            "+--------------+--------------------+--------------------+\n",
            "only showing top 20 rows\n",
            "\n"
          ]
        }
      ]
    },
    {
      "cell_type": "markdown",
      "metadata": {
        "id": "8To8PEKPMawT"
      },
      "source": [
        "Create vine_df table"
      ]
    },
    {
      "cell_type": "code",
      "metadata": {
        "colab": {
          "base_uri": "https://localhost:8080/"
        },
        "id": "UjIQUMsMMc5r",
        "outputId": "c2d9f38c-c7cb-4082-d753-03399b5fef23"
      },
      "source": [
        "vine_df = mobile_df.select([\"review_id\", \"star_rating\", \"helpful_votes\", \"total_votes\", \"vine\"])\n",
        "vine_df.show()"
      ],
      "execution_count": 11,
      "outputs": [
        {
          "output_type": "stream",
          "name": "stdout",
          "text": [
            "+--------------+-----------+-------------+-----------+----+\n",
            "|     review_id|star_rating|helpful_votes|total_votes|vine|\n",
            "+--------------+-----------+-------------+-----------+----+\n",
            "| R8MEA6IGAHO0B|          5|            0|          0|   N|\n",
            "|R31LOQ8JGLPRLK|          5|            0|          1|   N|\n",
            "|R2Y0MM9YE6OP3P|          5|            0|          0|   N|\n",
            "| RRB9C05HDOD4O|          4|            0|          0|   N|\n",
            "|R26I2RI1GFV8QG|          2|            0|          0|   N|\n",
            "| RY8DDL22YG4R5|          3|            0|          1|   N|\n",
            "|R2AT2426ZHFUHH|          3|            0|          1|   N|\n",
            "|R3RRXU2R23NMQ9|          5|            0|          0|   N|\n",
            "|R250PR8VJUZ62F|          4|            0|          2|   N|\n",
            "| RBEMQ29WJBHYG|          5|          164|        168|   N|\n",
            "|R19VVIUT4BZCMT|          5|            2|          2|   N|\n",
            "|R1DT8JJUQHUKUL|          3|            0|          1|   N|\n",
            "| RLIL6S9OGM3YA|          5|            0|          0|   N|\n",
            "|R34EZZ68VYPHO0|          1|            1|          1|   N|\n",
            "|R3TZNSOXS13SIG|          2|            1|          3|   N|\n",
            "|R12UBZT87UX3AP|          5|            2|          2|   N|\n",
            "| R5KCRE927NYMU|          2|            0|          0|   N|\n",
            "| RT12RQFU0V2AX|          5|            1|          1|   N|\n",
            "|R2K0YQPV5W2SJ1|          4|            2|          2|   N|\n",
            "|R104MY31OKNGXH|          5|            0|          0|   N|\n",
            "+--------------+-----------+-------------+-----------+----+\n",
            "only showing top 20 rows\n",
            "\n"
          ]
        }
      ]
    },
    {
      "cell_type": "markdown",
      "metadata": {
        "id": "b0HZ48LSMkWT"
      },
      "source": [
        "Connect to Database"
      ]
    },
    {
      "cell_type": "code",
      "metadata": {
        "id": "R4zrJtUKMk5b"
      },
      "source": [
        "mode = \"append\"\n",
        "jdbc_url=\"jdbc:postgresql://<instance>\"\n",
        "config = {\"user\":<user>, \n",
        "          \"password\": <password>, \n",
        "          \"driver\":\"org.postgresql.Driver\"}"
      ],
      "execution_count": null,
      "outputs": []
    },
    {
      "cell_type": "code",
      "metadata": {
        "id": "eWYswnncMo86"
      },
      "source": [
        "review_ID_df.write.jdbc(url=jdbc_url, table='review_id_table', mode=mode, properties=config)\n",
        "customer_df.write.jdbc(url=jdbc_url, table='customers', mode=mode, properties=config)\n",
        "products_df.write.jdbc(url=jdbc_url, table='products', mode=mode, properties=config)\n",
        "vine_df.write.jdbc(url=jdbc_url, table='vine_table', mode=mode, properties=config)"
      ],
      "execution_count": null,
      "outputs": []
    }
  ]
}